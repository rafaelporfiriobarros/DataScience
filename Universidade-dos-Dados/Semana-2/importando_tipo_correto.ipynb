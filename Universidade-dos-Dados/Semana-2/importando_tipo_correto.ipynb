{
 "cells": [
  {
   "cell_type": "code",
   "execution_count": 14,
   "metadata": {},
   "outputs": [],
   "source": [
    "import numpy as np\n",
    "import pandas as pd\n",
    "house = pd.read_csv('datasets/california_housing_train.csv',\n",
    "                    dtype={\n",
    "                        'total_rooms': np.dtype('int64'),\n",
    "                        'total_bedrooms': np.dtype('int32'),\n",
    "                        'population': np.dtype('int32')\n",
    "                    })\n",
    "house.info()"
   ]
  },
  {
   "cell_type": "code",
   "execution_count": 15,
   "metadata": {},
   "outputs": [],
   "source": [
    "house = pd.read_csv('datasets/california_housing_train.csv', usecols=['housing_median_age', 'total_rooms', 'total_bedrooms'])\n",
    "house.head()"
   ]
  },
  {
   "cell_type": "code",
   "execution_count": 16,
   "metadata": {},
   "outputs": [
    {
     "ename": "NameError",
     "evalue": "name 'data' is not defined",
     "output_type": "error",
     "traceback": [
      "\u001b[0;31m---------------------------------------------------------------------------\u001b[0m",
      "\u001b[0;31mNameError\u001b[0m                                 Traceback (most recent call last)",
      "Cell \u001b[0;32mIn[16], line 1\u001b[0m\n\u001b[0;32m----> 1\u001b[0m data[\u001b[39m'\u001b[39m\u001b[39mcat_column\u001b[39m\u001b[39m'\u001b[39m] \u001b[39m=\u001b[39m data\u001b[39m.\u001b[39mcat_column\u001b[39m.\u001b[39mastype(\u001b[39m'\u001b[39m\u001b[39mcategory\u001b[39m\u001b[39m'\u001b[39m)\n",
      "\u001b[0;31mNameError\u001b[0m: name 'data' is not defined"
     ]
    }
   ],
   "source": [
    "data['cat_column'] = data.cat_column.astype('category')"
   ]
  },
  {
   "cell_type": "code",
   "execution_count": null,
   "metadata": {},
   "outputs": [],
   "source": [
    "# Importando em pedaços de 1 milhão de linhas\n",
    "chunk = pd.read_csv('huge_data.csv', chunksize=1000000)\n",
    "df = pd.concat(chunk)"
   ]
  },
  {
   "cell_type": "code",
   "execution_count": null,
   "metadata": {},
   "outputs": [],
   "source": [
    "import pandas as pd\n",
    "\n",
    "house = pd.read_csv('datasets/california_housing_train.csv',\n",
    "                    usecols = ['housing_median_age', 'total_rooms', 'total_bedrooms'],\n",
    "                    nrows = 300)\n",
    "\n",
    "house.shape"
   ]
  },
  {
   "cell_type": "code",
   "execution_count": 17,
   "metadata": {},
   "outputs": [
    {
     "data": {
      "text/html": [
       "<div>\n",
       "<style scoped>\n",
       "    .dataframe tbody tr th:only-of-type {\n",
       "        vertical-align: middle;\n",
       "    }\n",
       "\n",
       "    .dataframe tbody tr th {\n",
       "        vertical-align: top;\n",
       "    }\n",
       "\n",
       "    .dataframe thead th {\n",
       "        text-align: right;\n",
       "    }\n",
       "</style>\n",
       "<table border=\"1\" class=\"dataframe\">\n",
       "  <thead>\n",
       "    <tr style=\"text-align: right;\">\n",
       "      <th></th>\n",
       "      <th>Current dtype</th>\n",
       "      <th>Proposed dtype</th>\n",
       "      <th>Current Memory (MB)</th>\n",
       "      <th>Proposed Memory (MB)</th>\n",
       "      <th>Ram Usage Improvement (MB)</th>\n",
       "      <th>Ram Usage Improvement (%)</th>\n",
       "    </tr>\n",
       "    <tr>\n",
       "      <th>Column</th>\n",
       "      <th></th>\n",
       "      <th></th>\n",
       "      <th></th>\n",
       "      <th></th>\n",
       "      <th></th>\n",
       "      <th></th>\n",
       "    </tr>\n",
       "  </thead>\n",
       "  <tbody>\n",
       "    <tr>\n",
       "      <th>longitude</th>\n",
       "      <td>float64</td>\n",
       "      <td>None</td>\n",
       "      <td>66.46875</td>\n",
       "      <td>NaN</td>\n",
       "      <td>NaN</td>\n",
       "      <td>NaN</td>\n",
       "    </tr>\n",
       "    <tr>\n",
       "      <th>latitude</th>\n",
       "      <td>float64</td>\n",
       "      <td>None</td>\n",
       "      <td>66.46875</td>\n",
       "      <td>NaN</td>\n",
       "      <td>NaN</td>\n",
       "      <td>NaN</td>\n",
       "    </tr>\n",
       "    <tr>\n",
       "      <th>housing_median_age</th>\n",
       "      <td>float64</td>\n",
       "      <td>float16</td>\n",
       "      <td>66.46875</td>\n",
       "      <td>16.664062</td>\n",
       "      <td>49.804688</td>\n",
       "      <td>74.929478</td>\n",
       "    </tr>\n",
       "    <tr>\n",
       "      <th>total_rooms</th>\n",
       "      <td>float64</td>\n",
       "      <td>float32</td>\n",
       "      <td>66.46875</td>\n",
       "      <td>33.265625</td>\n",
       "      <td>33.203125</td>\n",
       "      <td>49.952985</td>\n",
       "    </tr>\n",
       "    <tr>\n",
       "      <th>total_bedrooms</th>\n",
       "      <td>float64</td>\n",
       "      <td>float32</td>\n",
       "      <td>66.46875</td>\n",
       "      <td>33.265625</td>\n",
       "      <td>33.203125</td>\n",
       "      <td>49.952985</td>\n",
       "    </tr>\n",
       "    <tr>\n",
       "      <th>population</th>\n",
       "      <td>float64</td>\n",
       "      <td>float32</td>\n",
       "      <td>66.46875</td>\n",
       "      <td>33.265625</td>\n",
       "      <td>33.203125</td>\n",
       "      <td>49.952985</td>\n",
       "    </tr>\n",
       "    <tr>\n",
       "      <th>households</th>\n",
       "      <td>float64</td>\n",
       "      <td>float32</td>\n",
       "      <td>66.46875</td>\n",
       "      <td>33.265625</td>\n",
       "      <td>33.203125</td>\n",
       "      <td>49.952985</td>\n",
       "    </tr>\n",
       "    <tr>\n",
       "      <th>median_income</th>\n",
       "      <td>float64</td>\n",
       "      <td>None</td>\n",
       "      <td>66.46875</td>\n",
       "      <td>NaN</td>\n",
       "      <td>NaN</td>\n",
       "      <td>NaN</td>\n",
       "    </tr>\n",
       "    <tr>\n",
       "      <th>median_house_value</th>\n",
       "      <td>float64</td>\n",
       "      <td>float32</td>\n",
       "      <td>66.46875</td>\n",
       "      <td>33.265625</td>\n",
       "      <td>33.203125</td>\n",
       "      <td>49.952985</td>\n",
       "    </tr>\n",
       "  </tbody>\n",
       "</table>\n",
       "</div>"
      ],
      "text/plain": [
       "                   Current dtype Proposed dtype  Current Memory (MB)  \\\n",
       "Column                                                                 \n",
       "longitude                float64           None             66.46875   \n",
       "latitude                 float64           None             66.46875   \n",
       "housing_median_age       float64        float16             66.46875   \n",
       "total_rooms              float64        float32             66.46875   \n",
       "total_bedrooms           float64        float32             66.46875   \n",
       "population               float64        float32             66.46875   \n",
       "households               float64        float32             66.46875   \n",
       "median_income            float64           None             66.46875   \n",
       "median_house_value       float64        float32             66.46875   \n",
       "\n",
       "                    Proposed Memory (MB)  Ram Usage Improvement (MB)  \\\n",
       "Column                                                                 \n",
       "longitude                            NaN                         NaN   \n",
       "latitude                             NaN                         NaN   \n",
       "housing_median_age             16.664062                   49.804688   \n",
       "total_rooms                    33.265625                   33.203125   \n",
       "total_bedrooms                 33.265625                   33.203125   \n",
       "population                     33.265625                   33.203125   \n",
       "households                     33.265625                   33.203125   \n",
       "median_income                        NaN                         NaN   \n",
       "median_house_value             33.265625                   33.203125   \n",
       "\n",
       "                    Ram Usage Improvement (%)  \n",
       "Column                                         \n",
       "longitude                                 NaN  \n",
       "latitude                                  NaN  \n",
       "housing_median_age                  74.929478  \n",
       "total_rooms                         49.952985  \n",
       "total_bedrooms                      49.952985  \n",
       "population                          49.952985  \n",
       "households                          49.952985  \n",
       "median_income                             NaN  \n",
       "median_house_value                  49.952985  "
      ]
     },
     "execution_count": 17,
     "metadata": {},
     "output_type": "execute_result"
    }
   ],
   "source": [
    "from dtype_diet import report_on_dataframe\n",
    "import pandas as pd\n",
    "\n",
    "house = pd.read_csv('datasets/california_housing_train.csv')\n",
    "report_on_dataframe(house)"
   ]
  },
  {
   "cell_type": "code",
   "execution_count": 18,
   "metadata": {},
   "outputs": [],
   "source": [
    "house['housing_median_age'] = house['housing_median_age'].astype('float16')\n",
    "house['total_rooms'] = house['total_rooms'].astype('float32')"
   ]
  },
  {
   "cell_type": "code",
   "execution_count": 20,
   "metadata": {},
   "outputs": [
    {
     "name": "stdout",
     "output_type": "stream",
     "text": [
      "Original df memory: 1.0052947998046875 MB\n",
      "Proposed df memory: 0.7458953857421875 MB\n"
     ]
    }
   ],
   "source": [
    "# Importamos a função desejada\n",
    "from dtype_diet import optimize_dtypes\n",
    "\n",
    "# Salvamos os tipos que queremos num novo objeto\n",
    "optimized_df = report_on_dataframe(house, unit='MB')\n",
    "\n",
    "# Utilizamos a otimização para transformar as colunas de house nas colunas de proposed_df\n",
    "house_optimized = optimize_dtypes(house, optimized_df)\n",
    "\n",
    "# Vamos verificar a diferença de consumo de memória\n",
    "print(f'Original df memory: {house.memory_usage(deep = True).sum()/1024/1024} MB')\n",
    "print(f'Proposed df memory: {house_optimized.memory_usage(deep=True).sum()/1024/1024} MB')"
   ]
  },
  {
   "cell_type": "code",
   "execution_count": 21,
   "metadata": {},
   "outputs": [
    {
     "name": "stderr",
     "output_type": "stream",
     "text": [
      "UserWarning: The pandas version installed (2.0.2) does not match the supported pandas version in Modin (1.5.3). This may cause undesired side effects!\n"
     ]
    },
    {
     "ename": "ImportError",
     "evalue": "cannot import name 'Int64Index' from 'pandas' (/home/rafaporfirio/.local/lib/python3.10/site-packages/pandas/__init__.py)",
     "output_type": "error",
     "traceback": [
      "\u001b[0;31m---------------------------------------------------------------------------\u001b[0m",
      "\u001b[0;31mImportError\u001b[0m                               Traceback (most recent call last)",
      "Cell \u001b[0;32mIn[21], line 1\u001b[0m\n\u001b[0;32m----> 1\u001b[0m \u001b[39mimport\u001b[39;00m \u001b[39mmodin\u001b[39;00m\u001b[39m.\u001b[39;00m\u001b[39mpandas\u001b[39;00m \u001b[39mas\u001b[39;00m \u001b[39mpd\u001b[39;00m\n\u001b[1;32m      2\u001b[0m df \u001b[39m=\u001b[39m pd\u001b[39m.\u001b[39mread_csv(\u001b[39m'\u001b[39m\u001b[39mdatasets/california_housing_train.csv\u001b[39m\u001b[39m'\u001b[39m)\n",
      "File \u001b[0;32m~/.local/lib/python3.10/site-packages/modin/pandas/__init__.py:27\u001b[0m\n\u001b[1;32m     25\u001b[0m \u001b[39mwith\u001b[39;00m warnings\u001b[39m.\u001b[39mcatch_warnings():\n\u001b[1;32m     26\u001b[0m     warnings\u001b[39m.\u001b[39msimplefilter(\u001b[39m\"\u001b[39m\u001b[39mignore\u001b[39m\u001b[39m\"\u001b[39m)\n\u001b[0;32m---> 27\u001b[0m     \u001b[39mfrom\u001b[39;00m \u001b[39mpandas\u001b[39;00m \u001b[39mimport\u001b[39;00m (\n\u001b[1;32m     28\u001b[0m         \u001b[39meval\u001b[39m,\n\u001b[1;32m     29\u001b[0m         factorize,\n\u001b[1;32m     30\u001b[0m         test,\n\u001b[1;32m     31\u001b[0m         date_range,\n\u001b[1;32m     32\u001b[0m         period_range,\n\u001b[1;32m     33\u001b[0m         Index,\n\u001b[1;32m     34\u001b[0m         MultiIndex,\n\u001b[1;32m     35\u001b[0m         CategoricalIndex,\n\u001b[1;32m     36\u001b[0m         bdate_range,\n\u001b[1;32m     37\u001b[0m         DatetimeIndex,\n\u001b[1;32m     38\u001b[0m         Timedelta,\n\u001b[1;32m     39\u001b[0m         Timestamp,\n\u001b[1;32m     40\u001b[0m         set_eng_float_format,\n\u001b[1;32m     41\u001b[0m         options,\n\u001b[1;32m     42\u001b[0m         describe_option,\n\u001b[1;32m     43\u001b[0m         set_option,\n\u001b[1;32m     44\u001b[0m         get_option,\n\u001b[1;32m     45\u001b[0m         reset_option,\n\u001b[1;32m     46\u001b[0m         option_context,\n\u001b[1;32m     47\u001b[0m         NaT,\n\u001b[1;32m     48\u001b[0m         PeriodIndex,\n\u001b[1;32m     49\u001b[0m         Categorical,\n\u001b[1;32m     50\u001b[0m         Interval,\n\u001b[1;32m     51\u001b[0m         UInt8Dtype,\n\u001b[1;32m     52\u001b[0m         UInt16Dtype,\n\u001b[1;32m     53\u001b[0m         UInt32Dtype,\n\u001b[1;32m     54\u001b[0m         UInt64Dtype,\n\u001b[1;32m     55\u001b[0m         SparseDtype,\n\u001b[1;32m     56\u001b[0m         Int8Dtype,\n\u001b[1;32m     57\u001b[0m         Int16Dtype,\n\u001b[1;32m     58\u001b[0m         Int32Dtype,\n\u001b[1;32m     59\u001b[0m         Int64Dtype,\n\u001b[1;32m     60\u001b[0m         StringDtype,\n\u001b[1;32m     61\u001b[0m         BooleanDtype,\n\u001b[1;32m     62\u001b[0m         CategoricalDtype,\n\u001b[1;32m     63\u001b[0m         DatetimeTZDtype,\n\u001b[1;32m     64\u001b[0m         IntervalDtype,\n\u001b[1;32m     65\u001b[0m         PeriodDtype,\n\u001b[1;32m     66\u001b[0m         RangeIndex,\n\u001b[1;32m     67\u001b[0m         Int64Index,\n\u001b[1;32m     68\u001b[0m         UInt64Index,\n\u001b[1;32m     69\u001b[0m         Float64Index,\n\u001b[1;32m     70\u001b[0m         TimedeltaIndex,\n\u001b[1;32m     71\u001b[0m         IntervalIndex,\n\u001b[1;32m     72\u001b[0m         IndexSlice,\n\u001b[1;32m     73\u001b[0m         Grouper,\n\u001b[1;32m     74\u001b[0m         array,\n\u001b[1;32m     75\u001b[0m         Period,\n\u001b[1;32m     76\u001b[0m         DateOffset,\n\u001b[1;32m     77\u001b[0m         timedelta_range,\n\u001b[1;32m     78\u001b[0m         infer_freq,\n\u001b[1;32m     79\u001b[0m         interval_range,\n\u001b[1;32m     80\u001b[0m         ExcelWriter,\n\u001b[1;32m     81\u001b[0m         datetime,\n\u001b[1;32m     82\u001b[0m         NamedAgg,\n\u001b[1;32m     83\u001b[0m         NA,\n\u001b[1;32m     84\u001b[0m         api,\n\u001b[1;32m     85\u001b[0m         ArrowDtype,\n\u001b[1;32m     86\u001b[0m         Flags,\n\u001b[1;32m     87\u001b[0m         Float32Dtype,\n\u001b[1;32m     88\u001b[0m         Float64Dtype,\n\u001b[1;32m     89\u001b[0m         from_dummies,\n\u001b[1;32m     90\u001b[0m     )\n\u001b[1;32m     91\u001b[0m \u001b[39mimport\u001b[39;00m \u001b[39mos\u001b[39;00m\n\u001b[1;32m     93\u001b[0m \u001b[39mfrom\u001b[39;00m \u001b[39mmodin\u001b[39;00m\u001b[39m.\u001b[39;00m\u001b[39mconfig\u001b[39;00m \u001b[39mimport\u001b[39;00m Parameter\n",
      "\u001b[0;31mImportError\u001b[0m: cannot import name 'Int64Index' from 'pandas' (/home/rafaporfirio/.local/lib/python3.10/site-packages/pandas/__init__.py)"
     ]
    }
   ],
   "source": [
    "import modin.pandas as pd\n",
    "df = pd.read_csv('datasets/california_housing_train.csv')"
   ]
  },
  {
   "cell_type": "code",
   "execution_count": null,
   "metadata": {},
   "outputs": [],
   "source": []
  }
 ],
 "metadata": {
  "kernelspec": {
   "display_name": "Python 3",
   "language": "python",
   "name": "python3"
  },
  "language_info": {
   "codemirror_mode": {
    "name": "ipython",
    "version": 3
   },
   "file_extension": ".py",
   "mimetype": "text/x-python",
   "name": "python",
   "nbconvert_exporter": "python",
   "pygments_lexer": "ipython3",
   "version": "3.10.6"
  },
  "orig_nbformat": 4
 },
 "nbformat": 4,
 "nbformat_minor": 2
}
