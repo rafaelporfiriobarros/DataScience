{
 "cells": [
  {
   "cell_type": "code",
   "execution_count": 1,
   "metadata": {},
   "outputs": [
    {
     "name": "stdout",
     "output_type": "stream",
     "text": [
      "Verdadeiro Positivo (TP): 3\n",
      "Verdadeiro Negativo (TN): 2\n",
      "Falso Positivo (FP): 2\n",
      "Falso Negativo (FN): 1\n",
      "Precision : 0.600\n",
      "Recall : 0.750\n"
     ]
    }
   ],
   "source": [
    "from sklearn.metrics import confusion_matrix, precision_score, recall_score\n",
    "\n",
    "# Criamos alguns exemplos, mas no seu modelo voce ja teria isso \n",
    "# ao fazer y_test = model.predict(X_test)\n",
    "\n",
    "y_true = [0, 1, 0, 1, 1, 1, 0, 0]\n",
    "y_pred = [0, 1, 1, 1, 1, 0, 0, 1]\n",
    "\n",
    "# Temos a matriz de confusao calculada e dela extraimos um array flat\n",
    "tn, fp, fn, tp = confusion_matrix(y_true, y_pred).ravel()\n",
    "\n",
    "# Calculo de precision recall, que tem funcao propria, mas\n",
    "# poderiamos ter feito com os valores extraidos acima\n",
    "\n",
    "precision = precision_score(y_true, y_pred)\n",
    "recall = recall_score(y_true, y_pred)\n",
    "\n",
    "# Exibimos as metricas usando f-string\n",
    "print(f\"Verdadeiro Positivo (TP): {tp}\")\n",
    "print(f\"Verdadeiro Negativo (TN): {tn}\")\n",
    "print(f\"Falso Positivo (FP): {fp}\")\n",
    "print(f\"Falso Negativo (FN): {fn}\")\n",
    "print(f\"Precision : {precision:.3f}\")\n",
    "print(f\"Recall : {recall:.3f}\")"
   ]
  },
  {
   "cell_type": "code",
   "execution_count": null,
   "metadata": {},
   "outputs": [],
   "source": []
  }
 ],
 "metadata": {
  "kernelspec": {
   "display_name": "Python 3",
   "language": "python",
   "name": "python3"
  },
  "language_info": {
   "codemirror_mode": {
    "name": "ipython",
    "version": 3
   },
   "file_extension": ".py",
   "mimetype": "text/x-python",
   "name": "python",
   "nbconvert_exporter": "python",
   "pygments_lexer": "ipython3",
   "version": "3.10.6"
  },
  "orig_nbformat": 4
 },
 "nbformat": 4,
 "nbformat_minor": 2
}
