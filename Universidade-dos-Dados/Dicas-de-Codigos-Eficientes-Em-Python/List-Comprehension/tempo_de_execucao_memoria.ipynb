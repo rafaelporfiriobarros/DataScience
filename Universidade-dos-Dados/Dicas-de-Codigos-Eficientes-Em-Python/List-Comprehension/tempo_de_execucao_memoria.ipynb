{
 "cells": [
  {
   "cell_type": "code",
   "execution_count": 3,
   "metadata": {},
   "outputs": [
    {
     "name": "stdout",
     "output_type": "stream",
     "text": [
      "-0.0014271736145019531\n"
     ]
    }
   ],
   "source": [
    "import time\n",
    "\n",
    "# pega o horario de inicio da execucao\n",
    "\n",
    "inicio = time.time()\n",
    "\n",
    "# executa tudo que voce quer\n",
    "\n",
    "mylist = []\n",
    "for i in range(10000):\n",
    "    mylist.append(i + 1)\n",
    "\n",
    "# pega o horario de fim da execucao\n",
    "fim = time.time()\n",
    "\n",
    "# Printa a diferenca entre incio e fim \n",
    "\n",
    "print(inicio - fim)"
   ]
  },
  {
   "cell_type": "code",
   "execution_count": null,
   "metadata": {},
   "outputs": [],
   "source": []
  }
 ],
 "metadata": {
  "kernelspec": {
   "display_name": "Python 3",
   "language": "python",
   "name": "python3"
  },
  "language_info": {
   "codemirror_mode": {
    "name": "ipython",
    "version": 3
   },
   "file_extension": ".py",
   "mimetype": "text/x-python",
   "name": "python",
   "nbconvert_exporter": "python",
   "pygments_lexer": "ipython3",
   "version": "3.10.6"
  },
  "orig_nbformat": 4
 },
 "nbformat": 4,
 "nbformat_minor": 2
}
