{
 "cells": [
  {
   "attachments": {},
   "cell_type": "markdown",
   "metadata": {},
   "source": [
    "### Medidas de Tendência Central"
   ]
  },
  {
   "attachments": {},
   "cell_type": "markdown",
   "metadata": {},
   "source": [
    "#### MÉDIA\n",
    "\n",
    "Resultado da soma dos valores dividido pelo número de valores.\n",
    "\n",
    "Exemplo: A média de {1,3,2,4,3,5} é 1+3+2+4+3+5 = 18 / 6 = 3"
   ]
  },
  {
   "cell_type": "code",
   "execution_count": 2,
   "metadata": {},
   "outputs": [
    {
     "data": {
      "text/plain": [
       "30"
      ]
     },
     "execution_count": 2,
     "metadata": {},
     "output_type": "execute_result"
    }
   ],
   "source": [
    "import statistics as s\n",
    "\n",
    "lista_1 = [10, 20, 10, 30, 15, 25, 100]\n",
    "\n",
    "s.mean(lista_1)"
   ]
  },
  {
   "attachments": {},
   "cell_type": "markdown",
   "metadata": {},
   "source": [
    "#### MEDIANA"
   ]
  },
  {
   "attachments": {},
   "cell_type": "markdown",
   "metadata": {},
   "source": [
    "Meio da distribuição, o valor que divide seu conjunto de valores em dois. Ou seja, metade dos valores estão abaixo da mediana e metade está acima.\n",
    "\n",
    "Exemplo: A mediana de {1, 1, 0, 5, 10, 12, 15}, é 5. Veja que ordenando temos {0, 1, 1, 5, 10, 12, 15}, o número que deixa metade dos valores (3 valores) abaixo e metade acima é 5."
   ]
  },
  {
   "cell_type": "code",
   "execution_count": 3,
   "metadata": {},
   "outputs": [
    {
     "data": {
      "text/plain": [
       "5"
      ]
     },
     "execution_count": 3,
     "metadata": {},
     "output_type": "execute_result"
    }
   ],
   "source": [
    "lista_2 = [1, 1, 0, 5, 10, 12, 15]\n",
    "s.median(lista_2)"
   ]
  },
  {
   "attachments": {},
   "cell_type": "markdown",
   "metadata": {},
   "source": [
    "#### MODA\n",
    "\n",
    "Valor mais frequente nas suas observações.\n",
    "\n",
    "A moda de {1, 1, 1, 0, 0, 2, 2, 5, 10, 9, 1, 0} é 1!"
   ]
  },
  {
   "cell_type": "code",
   "execution_count": 4,
   "metadata": {},
   "outputs": [
    {
     "data": {
      "text/plain": [
       "1"
      ]
     },
     "execution_count": 4,
     "metadata": {},
     "output_type": "execute_result"
    }
   ],
   "source": [
    "s.mode(lista_2)"
   ]
  },
  {
   "cell_type": "code",
   "execution_count": 5,
   "metadata": {},
   "outputs": [
    {
     "data": {
      "text/plain": [
       "1"
      ]
     },
     "execution_count": 5,
     "metadata": {},
     "output_type": "execute_result"
    }
   ],
   "source": [
    "lista_3 = [1, 1, 0, 0, 5, 5, 10, 12, 15]\n",
    "s.mode(lista_3)"
   ]
  },
  {
   "attachments": {},
   "cell_type": "markdown",
   "metadata": {},
   "source": [
    "Atenção: Veja que a média é afetada por outliers, enquanto a mediana não. Imagine que você tem uma empresa com 100 funcionários, 30 deles ganham mil reais, 50 ganham 1200, 15 ganham 900 reais e outros 5, executivos, ganham 30 mil reais. Veja abaixo as métricas referentes à empresa."
   ]
  },
  {
   "cell_type": "code",
   "execution_count": 8,
   "metadata": {},
   "outputs": [
    {
     "name": "stdout",
     "output_type": "stream",
     "text": [
      " A média salarial da empresa é de: 2535.00 reais e a mediana é de 1200.00 reais.\n"
     ]
    }
   ],
   "source": [
    "a = [1000] * 30\n",
    "b = [1200] * 50\n",
    "c = [900] * 15\n",
    "d = [30000] * 5\n",
    "\n",
    "salarios_com_outliers = a + b + c + d\n",
    "\n",
    "print(f\" A média salarial da empresa é de: {s.mean(salarios_com_outliers):.2f} reais e a mediana é de {s.median(salarios_com_outliers):.2f} reais.\")"
   ]
  },
  {
   "attachments": {},
   "cell_type": "markdown",
   "metadata": {},
   "source": [
    "Ao  olharmos para as métricas, vemos que a média é de 2.535 reais, um número não muito realista e superior ao que ganham 95% dos funcionários. Por que isso ocorreu? Porque os 5 executivos eram outliers e puxaram o valor da média para cima.\n",
    "\n",
    "Veja, no entanto, que a mediana é de 1200 reais, um valor bem próximo da realidade da empresa.\n",
    "\n",
    "É importante saber quando usar cada uma das duas para não olhar a métrica errada. Alguns cursos costumam indicar simplesmente que se utilize mediana. Pode ser um estratégia segura para quem estiver com preguiça de pensar."
   ]
  },
  {
   "attachments": {},
   "cell_type": "markdown",
   "metadata": {},
   "source": [
    "### Medidas de Dispersão"
   ]
  },
  {
   "attachments": {},
   "cell_type": "markdown",
   "metadata": {},
   "source": [
    "As métricas acima são chamadas de medidas de tendência central, pois buscam pontos centrais dos conjuntos de dados. Entretanto, elas ainda dizem pouco sobre seus dados. Veja os 3 conjuntos de dados abaixo:\n",
    "\n",
    "A = [10, 10, 10, 10, 10]<br>\n",
    "B = [50, 0, 0, 0, 0]<br>\n",
    "C = {10, 7, 11, 13, 9}<br>\n",
    "\n",
    "Os 3 possuem média 10, mesmo sendo bem diferentes. Poderíamos fazer o mesmo para a moda e mediana, mas acho que a maioria já entendeu meu ponto. A questão aqui é que estamos olhando para um ponto central, mas não estamos olhando para como esses valores estão \"espalhados\", como eles estão dispersos. Para isso, precisamos falar de medidas de dispersão!"
   ]
  },
  {
   "attachments": {},
   "cell_type": "markdown",
   "metadata": {},
   "source": [
    "#### VARIÂNCIA E DESVIO PADRÃO\n",
    "\n",
    "Uma das formas mais intuitivas de verificar como os valores estão dispersos seria investigando qual a distância deles para a média. Entretanto, veja o que acontece quando fazemos isso:\n",
    "\n",
    "A = {10, 20, 15, 15, 20}\n",
    "\n",
    "Média de A: 16\n",
    "\n",
    "Desvios da média de A: {-6, 4, -1, -1, 4}\n",
    "\n",
    "Veja que se somarmos o quanto cada valor desvia da média chegaremos em zero. Mas isso não quer dizer, obviamente, que nossos dados não desviam nada, é apenas consequência de como  a média é calculada. Uma solução recorrente na matemética para evitar isso, e que vocês verão em outras situações mais a frente, é somar os quadrados dos desvios, ao invés de somar os desvios!\n",
    "\n",
    "Quadrado dos desvios: {36, 16, 1, 1, 16}\n",
    "\n",
    "Somatória dos quadrados: 70\n",
    "\n",
    "Como isso é a soma de 5 desvios, nada mais natural que dividirmos o valor por 5. Isso é o que chamamos de variância.\n",
    "\n",
    "Agora, nossos desvios foram elevados ao quadrado, certo? Se quisermos reverter isso, precisaríamos \"retirar\" a potência que usamos para não cair em zero, bastaria aplicar a raiz quadrada. Fazendo mais esse passo, a gente chega no desvio padrão, nossa segunda medida de dispersão."
   ]
  },
  {
   "attachments": {},
   "cell_type": "markdown",
   "metadata": {},
   "source": [
    "### VARIÂNCIA E DESVIO PADRÃO COM POPULAÇÃO"
   ]
  },
  {
   "cell_type": "code",
   "execution_count": 15,
   "metadata": {},
   "outputs": [
    {
     "data": {
      "text/plain": [
       "(14, 14.0)"
      ]
     },
     "execution_count": 15,
     "metadata": {},
     "output_type": "execute_result"
    }
   ],
   "source": [
    "s.pvariance([10, 20, 15, 15, 20]), 70/5"
   ]
  },
  {
   "cell_type": "code",
   "execution_count": 17,
   "metadata": {},
   "outputs": [
    {
     "data": {
      "text/plain": [
       "(3.7416573867739413, 3.7416573867739413)"
      ]
     },
     "execution_count": 17,
     "metadata": {},
     "output_type": "execute_result"
    }
   ],
   "source": [
    "s.pstdev([10, 20, 15, 15, 20]), (70/5)**(1/2)"
   ]
  },
  {
   "attachments": {},
   "cell_type": "markdown",
   "metadata": {},
   "source": [
    "### VARIÂNCIA E DESVIO PADRÃO COM AMOSTRA"
   ]
  },
  {
   "cell_type": "code",
   "execution_count": 18,
   "metadata": {},
   "outputs": [
    {
     "data": {
      "text/plain": [
       "17.5"
      ]
     },
     "execution_count": 18,
     "metadata": {},
     "output_type": "execute_result"
    }
   ],
   "source": [
    "s.variance([10, 20, 15, 15, 20])"
   ]
  },
  {
   "cell_type": "code",
   "execution_count": 19,
   "metadata": {},
   "outputs": [
    {
     "data": {
      "text/plain": [
       "4.183300132670378"
      ]
     },
     "execution_count": 19,
     "metadata": {},
     "output_type": "execute_result"
    }
   ],
   "source": [
    "s.stdev([10, 20, 15, 15, 20])"
   ]
  },
  {
   "cell_type": "code",
   "execution_count": 24,
   "metadata": {},
   "outputs": [
    {
     "data": {
      "text/plain": [
       "(0.0, 22.360679774997898, 2.23606797749979)"
      ]
     },
     "execution_count": 24,
     "metadata": {},
     "output_type": "execute_result"
    }
   ],
   "source": [
    "A = [10, 10, 10, 10, 10]\n",
    "B = [50, 0, 0, 0, 0]\n",
    "C = {10, 7, 11, 13, 9}\n",
    "\n",
    "s.stdev(A), s.stdev(B), s.stdev(C)"
   ]
  },
  {
   "cell_type": "code",
   "execution_count": 25,
   "metadata": {},
   "outputs": [
    {
     "data": {
      "text/plain": [
       "(10, 10, 10)"
      ]
     },
     "execution_count": 25,
     "metadata": {},
     "output_type": "execute_result"
    }
   ],
   "source": [
    "s.mean(A), s.mean(B), s.mean(C)"
   ]
  },
  {
   "cell_type": "code",
   "execution_count": 26,
   "metadata": {},
   "outputs": [
    {
     "name": "stdout",
     "output_type": "stream",
     "text": [
      "25\n"
     ]
    }
   ],
   "source": [
    "import statistics as st\n",
    "\n",
    "A = [15, 25, 25, 25, 25, 30, 30, 35, 40, 40, 40, 40, 55, 55, 60]\n",
    "\n",
    "print(st.mode(A))"
   ]
  },
  {
   "cell_type": "code",
   "execution_count": null,
   "metadata": {},
   "outputs": [],
   "source": []
  }
 ],
 "metadata": {
  "kernelspec": {
   "display_name": "Python 3",
   "language": "python",
   "name": "python3"
  },
  "language_info": {
   "codemirror_mode": {
    "name": "ipython",
    "version": 3
   },
   "file_extension": ".py",
   "mimetype": "text/x-python",
   "name": "python",
   "nbconvert_exporter": "python",
   "pygments_lexer": "ipython3",
   "version": "3.10.6"
  },
  "orig_nbformat": 4
 },
 "nbformat": 4,
 "nbformat_minor": 2
}
