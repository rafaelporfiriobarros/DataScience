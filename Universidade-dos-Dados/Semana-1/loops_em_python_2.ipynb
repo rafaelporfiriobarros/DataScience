{
 "cells": [
  {
   "cell_type": "code",
   "execution_count": 1,
   "metadata": {},
   "outputs": [
    {
     "name": "stdout",
     "output_type": "stream",
     "text": [
      "0.01\n",
      "0.042222222222222223\n",
      "0.07444444444444444\n",
      "0.10666666666666666\n",
      "0.1388888888888889\n",
      "0.1711111111111111\n",
      "0.20333333333333334\n",
      "0.23555555555555557\n",
      "0.2677777777777778\n",
      "0.3\n"
     ]
    }
   ],
   "source": [
    "import numpy as np\n",
    "\n",
    "for i in np.linspace(0.01, 0.3, 10):\n",
    "    print(i)"
   ]
  },
  {
   "cell_type": "code",
   "execution_count": 3,
   "metadata": {},
   "outputs": [
    {
     "name": "stdout",
     "output_type": "stream",
     "text": [
      "Andre\n",
      "Bruna\n",
      "Carlos\n"
     ]
    }
   ],
   "source": [
    "for i in ['Andre', 'Bruna', 'Carlos']:\n",
    "    print(i)"
   ]
  },
  {
   "cell_type": "code",
   "execution_count": 4,
   "metadata": {},
   "outputs": [
    {
     "name": "stdout",
     "output_type": "stream",
     "text": [
      "11\n",
      "12\n",
      "13\n",
      "14\n"
     ]
    }
   ],
   "source": [
    "for i in [1, 2, 3, 4]:\n",
    "    nota = i + 10\n",
    "    print(nota)"
   ]
  },
  {
   "cell_type": "code",
   "execution_count": 6,
   "metadata": {},
   "outputs": [
    {
     "name": "stdout",
     "output_type": "stream",
     "text": [
      "1.0\n",
      "2.0\n",
      "3.0\n",
      "4.0\n",
      "5.0\n",
      "6.0\n",
      "7.0\n",
      "8.0\n",
      "9.0\n",
      "10.0\n"
     ]
    }
   ],
   "source": [
    "import numpy as np\n",
    "\n",
    "for i in np.linspace(1, 10, 10):\n",
    "    print(i)"
   ]
  },
  {
   "cell_type": "code",
   "execution_count": 7,
   "metadata": {},
   "outputs": [
    {
     "name": "stdout",
     "output_type": "stream",
     "text": [
      "0\n",
      "1\n",
      "2\n",
      "3\n",
      "4\n",
      "5\n",
      "6\n",
      "7\n",
      "8\n",
      "9\n"
     ]
    }
   ],
   "source": [
    "for n in range(10):\n",
    "    print(n)"
   ]
  },
  {
   "cell_type": "code",
   "execution_count": 11,
   "metadata": {},
   "outputs": [
    {
     "name": "stdout",
     "output_type": "stream",
     "text": [
      "0\n",
      "1\n",
      "4\n"
     ]
    }
   ],
   "source": [
    "for n in range(10):\n",
    "   resultado = n ** 2\n",
    "   if resultado == 9:\n",
    "      break\n",
    "   print(resultado)"
   ]
  },
  {
   "cell_type": "code",
   "execution_count": 12,
   "metadata": {},
   "outputs": [
    {
     "name": "stdout",
     "output_type": "stream",
     "text": [
      "0\n",
      "1\n",
      "2\n",
      "3\n",
      "4\n",
      "5\n",
      "6\n",
      "7\n",
      "8\n",
      "9\n"
     ]
    }
   ],
   "source": [
    "for n in range(10):\n",
    "    print(n)\n",
    "    if n == 5:\n",
    "        pass"
   ]
  },
  {
   "cell_type": "code",
   "execution_count": 15,
   "metadata": {},
   "outputs": [
    {
     "name": "stdout",
     "output_type": "stream",
     "text": [
      "Done.\n"
     ]
    }
   ],
   "source": [
    "for i in ['foo', 'bar', 'baz', 'qux']:\n",
    "    if i == 'bar':\n",
    "        break\n",
    "        print(i)\n",
    "    else:\n",
    "        print('Done.')"
   ]
  },
  {
   "cell_type": "code",
   "execution_count": null,
   "metadata": {},
   "outputs": [],
   "source": [
    "encoder_list = [\n",
    "    ce.cat_boost.CatBoostEncoder,\n",
    "    ce.one_hot.OneHotEncoder,\n",
    "    ce.woe.WOEEncoder,\n",
    "    \n",
    "]\n",
    "\n",
    "for encoder in encoder_list:\n",
    "\n",
    "    numeric_transformer = Pipeline(\n",
    "        steps = [(\"imputer\", SimpleImputer(strategy=\"median\"))]\n",
    "    )\n",
    "    categorical_transformer = Pipeline(steps=[(\"woe\", encoder())])\n",
    "\n",
    "    preprocessor = ColumnTranformer(\n",
    "        transformers = [\n",
    "            (\"num\", numeric_transformer, numeric_features),\n",
    "            (\"cat\", categorical_transformer, categorical_features),\n",
    "        ]\n",
    "    )\n",
    "\n",
    "    pipe = Pipeline(\n",
    "        steps=[\n",
    "            (\"preprocessor\", preprocessor),\n",
    "            (\"classifier\", RandomForestClassifier(n_estimators=500)),\n",
    "        ]\n",
    "    )\n",
    "\n",
    "    model = pipe.fit(X_train, y_train.values.ravel())\n",
    "\n",
    "    y_pred = model.predict(X_test)\n",
    "    print(encoder)\n",
    "    print(roc_auc_score(y_test, model.precit_proba(X_test)[:, 1]))\n",
    "    print(f1_score(y_test, y_pred, average=\"macro\"))"
   ]
  },
  {
   "cell_type": "code",
   "execution_count": 16,
   "metadata": {},
   "outputs": [
    {
     "name": "stdout",
     "output_type": "stream",
     "text": [
      "1.8\n",
      "1.62\n",
      "1.4580000000000002\n",
      "1.3122000000000003\n",
      "1.1809800000000004\n",
      "1.0628820000000003\n",
      "0.9565938000000003\n",
      "0.8609344200000003\n",
      "0.7748409780000003\n",
      "0.6973568802000003\n",
      "0.6276211921800003\n",
      "0.5648590729620003\n",
      "0.5083731656658003\n",
      "0.45753584909922024\n"
     ]
    }
   ],
   "source": [
    "error = 2\n",
    "\n",
    "while error > 0.5:\n",
    "    error = error * 0.9\n",
    "    print(error)\n"
   ]
  },
  {
   "cell_type": "code",
   "execution_count": 17,
   "metadata": {},
   "outputs": [
    {
     "name": "stdout",
     "output_type": "stream",
     "text": [
      "1.8\n",
      "1\n",
      "1.62\n",
      "2\n",
      "1.4580000000000002\n",
      "3\n",
      "1.3122000000000003\n",
      "4\n",
      "1.1809800000000004\n",
      "5\n",
      "1.0628820000000003\n",
      "6\n",
      "0.9565938000000003\n",
      "7\n",
      "0.8609344200000003\n",
      "8\n",
      "0.7748409780000003\n",
      "9\n",
      "0.6973568802000003\n",
      "10\n",
      "0.6276211921800003\n",
      "11\n",
      "0.5648590729620003\n",
      "12\n",
      "0.5083731656658003\n",
      "13\n",
      "0.45753584909922024\n",
      "14\n"
     ]
    }
   ],
   "source": [
    "error = 2\n",
    "contador = 0\n",
    "\n",
    "while error > 0.5:\n",
    "    error = error * 0.9\n",
    "    contador = contador + 1\n",
    "    print(error)\n",
    "    print(contador)"
   ]
  },
  {
   "cell_type": "code",
   "execution_count": null,
   "metadata": {},
   "outputs": [],
   "source": []
  }
 ],
 "metadata": {
  "kernelspec": {
   "display_name": "Python 3",
   "language": "python",
   "name": "python3"
  },
  "language_info": {
   "codemirror_mode": {
    "name": "ipython",
    "version": 3
   },
   "file_extension": ".py",
   "mimetype": "text/x-python",
   "name": "python",
   "nbconvert_exporter": "python",
   "pygments_lexer": "ipython3",
   "version": "3.10.6"
  },
  "orig_nbformat": 4
 },
 "nbformat": 4,
 "nbformat_minor": 2
}
