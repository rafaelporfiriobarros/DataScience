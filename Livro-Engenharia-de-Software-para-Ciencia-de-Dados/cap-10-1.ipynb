{
 "cells": [
  {
   "cell_type": "markdown",
   "metadata": {},
   "source": [
    "## Exemplo Prático de Classificação em Python"
   ]
  },
  {
   "cell_type": "code",
   "execution_count": 1,
   "metadata": {},
   "outputs": [],
   "source": [
    "# Configuração para não exibir ow warnings\n",
    "\n",
    "import warnings\n",
    "warnings.filterwarnings(\"ignore\")"
   ]
  },
  {
   "cell_type": "code",
   "execution_count": 2,
   "metadata": {},
   "outputs": [],
   "source": [
    "# Imports necessários\n",
    "import pandas as pd\n",
    "import numpy as np\n",
    "import matplotlib.pyplot as plt\n",
    "from sklearn.datasets import load_wine #para importar o dataset wine\n",
    "from sklearn.model_selection import train_test_split # para particionar em bases de treino e teste(holdout)\n",
    "from sklearn.model_selection import KFold # para preparar os folds da validação cruzada\n",
    "from sklearn.model_selection import cross_val_score # para executar a validação cruzada\n",
    "from sklearn.metrics import accuracy_score # para a exibição da acurácia do modelo\n",
    "from sklearn.linear_model import LogisticRegression # algoritmo regressão logística\n",
    "from sklearn.neighbors import KNeighborsClassifier # algoritmo KNN\n",
    "from sklearn.tree import DecisionTreeClassifier # algoritmo árvore de classificação\n",
    "from sklearn.naive_bayes import GaussianNB # algoritmo Naive Bayes\n",
    "from sklearn.svm import SVC # algoritmo SVM"
   ]
  },
  {
   "cell_type": "code",
   "execution_count": 3,
   "metadata": {},
   "outputs": [],
   "source": [
    "# Carga do dataset\n",
    "wine = load_wine()\n",
    "dataset = pd.DataFrame(wine.data, columns = wine.feature_names) # conversão para dataframe\n",
    "dataset['target'] = wine.target # adição da coluna target\n",
    "\n",
    "# Separação em bases de treino e teste (holdout)\n",
    "array = dataset.values\n",
    "X = array[:, 0:13] # atributos\n",
    "y = array[:, 13] # classe (target)\n",
    "X_train, X_test, y_train, y_test = train_test_split(X, y, test_size = 0.20, random_state = 7) # faz a divisão\n",
    "\n",
    "# Definindo a métrica de avaliação dos algoritmos\n",
    "scoring = 'accuracy'\n",
    "\n",
    "# Criando os folds para a validação cruzada\n",
    "num_particoes = 10 # número de folds da validação cruzada\n",
    "kfold = KFold(n_splits = num_particoes, shuffle = True, random_state = 7) # faz o particionamento em 10 folds"
   ]
  },
  {
   "cell_type": "code",
   "execution_count": 4,
   "metadata": {},
   "outputs": [
    {
     "name": "stdout",
     "output_type": "stream",
     "text": [
      "LR: 0.936667 (0.048564)\n",
      "KNN: 0.675238 (0.087929)\n",
      "CART: 0.880476 (0.055183)\n",
      "NB: 0.971429 (0.047380)\n",
      "SVM: 0.683333 (0.078282)\n"
     ]
    },
    {
     "data": {
      "image/png": "[encoded data removed]",
      "text/plain": [
       "<Figure size 640x480 with 1 Axes>"
      ]
     },
     "metadata": {},
     "output_type": "display_data"
    }
   ],
   "source": [
    "# Modelagem \n",
    "\n",
    "# Definindo uma seed global para esta célula de código\n",
    "np.random.seed(7)\n",
    "\n",
    "# Listas para armazenar os modelos, os resultados e os nomes dos modelos\n",
    "models = []\n",
    "results = []\n",
    "names = []\n",
    "\n",
    "\n",
    "# Preparando os modelos e adicionando-os em uma lista\n",
    "models.append(('LR', LogisticRegression(max_iter=200)))\n",
    "models.append(('KNN', KNeighborsClassifier()))\n",
    "models.append(('CART', DecisionTreeClassifier()))\n",
    "models.append(('NB', GaussianNB()))\n",
    "models.append(('SVM', SVC()))\n",
    "\n",
    "# Avaliando um modelo por vez\n",
    "for name, model in models:\n",
    "    cv_results = cross_val_score(model, X_train, y_train, cv = kfold, scoring = scoring)\n",
    "    results.append(cv_results)\n",
    "    names.append(name)\n",
    "    msg = \"%s: %f (%f)\" % (name, cv_results.mean(), cv_results.std()) # média e desvio padrão dos 10 resultados da validação cruzada\n",
    "    print(msg)\n",
    "\n",
    "# Boxplot de comparação dos modelos\n",
    "fig = plt.figure()\n",
    "fig.suptitle('Comparaçào da Acurácia dos Modelos')\n",
    "ax = fig.add_subplot(111)\n",
    "plt.boxplot(results)\n",
    "ax.set_xticklabels(names)\n",
    "plt.show()"
   ]
  },
  {
   "cell_type": "code",
   "execution_count": 5,
   "metadata": {},
   "outputs": [
    {
     "name": "stdout",
     "output_type": "stream",
     "text": [
      "1.0\n"
     ]
    }
   ],
   "source": [
    "# Criando um modelo com todo o conjunto de treino \n",
    "model = GaussianNB()\n",
    "model.fit(X_train, y_train)\n",
    "\n",
    "# Fazendo as predições com o conjunto de teste\n",
    "predictions = model.predict(X_test)\n",
    "\n",
    "# Estimando a acurácia no conjunto de teste\n",
    "print(accuracy_score(y_test, predictions))"
   ]
  },
  {
   "cell_type": "code",
   "execution_count": null,
   "metadata": {},
   "outputs": [],
   "source": []
  }
 ],
 "metadata": {
  "kernelspec": {
   "display_name": "Python 3",
   "language": "python",
   "name": "python3"
  },
  "language_info": {
   "codemirror_mode": {
    "name": "ipython",
    "version": 3
   },
   "file_extension": ".py",
   "mimetype": "text/x-python",
   "name": "python",
   "nbconvert_exporter": "python",
   "pygments_lexer": "ipython3",
   "version": "3.10.6"
  },
  "orig_nbformat": 4
 },
 "nbformat": 4,
 "nbformat_minor": 2
}
